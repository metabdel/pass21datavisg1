{
    "cells": [
        {
            "cell_type": "markdown",
            "metadata": {},
            "source": "\n"
        },
        {
            "cell_type": "code",
            "execution_count": null,
            "metadata": {},
            "outputs": [],
            "source": [
                "options(width = 700)\n",
                "knitr::opts_chunk$set(warning = FALSE, message = FALSE, out.width = \"100%\",\n",
                "                      fig.showtext = TRUE, retina = 1)\n"
            ]
        },
        {
            "cell_type": "markdown",
            "metadata": {},
            "source": [
                "*Last update: 2022-01-15*\n",
                "\n",
                "\n",
                "## Introduction\n",
                "\n",
                "[I don't care, just show me the content!](#toc)\n",
                "\n",
                "Dans ce tutoriel, vous apprendrez à reproduire l'une des visualisations de données les plus célèbres au monde, qui a été développée par Hans Rosling : \n",
                "\n",
                "Hans Rosling était un professeur de santé internationale et un porte-parole du progrès humain. Par exemple, contrairement à ce que l'on croit généralement, la pauvreté dans le monde a énormément diminué au cours des dernières décennies. La visualisation que vous pouvez voir ci-dessus est l'un des nombreux exemples qui montrent comment la vie sur terre s'est améliorée au cours des dernières décennies. Le nuage de points illustre la relation entre le revenu par habitant et l'espérance de vie en jusqu'en 2007.\n",
                "\n",
                "L'objectif de ce tutoriel est de reproduire cette célèbre visualisation de données et d'utiliser des techniques plus complexes dans ggplot2 pour ajouter une visualisation dans une visualisation. \n",
                "\n",
                "\n",
                "## Préparation {#prep}\n",
                "\n",
                "* Vous devez charger les package suivants pour exécuter le tutoriel complet :\n",
                "(Pour des raisons pédagogiques et si les participants sautent à n'importe quel graphe, on charge le package nécessaire à côté de `{ggplot2}` dans la section respective).\n"
            ]
        },
        {
            "cell_type": "code",
            "execution_count": null,
            "metadata": {},
            "outputs": [],
            "source": [
                "# install CRAN packages\n",
                "\n",
                "library(tidyverse)\n",
                "library(gapminder)\n",
                "library(ggthemes)\n",
                "library(countrycode)\n",
                "library(ggpp)\n"
            ]
        },
        {
            "cell_type": "markdown",
            "metadata": {},
            "source": [
                "## Le jeu de données {#data}\n",
                "\n",
                "Tout d'abord, nous avons besoin des données gapminder. Heureusement, il existe un package gapminder dans R pour cela. Comme d'habitude, nous devons d'abord charger tous les packages nécessaires à la visualisation.\n"
            ]
        },
        {
            "cell_type": "code",
            "execution_count": null,
            "metadata": {},
            "outputs": [],
            "source": [
                "library(tidyverse)\n",
                "library(gapminder)\n",
                "\n",
                "gapminder_cleaned <- \n",
                "  gapminder %>% \n",
                "  # filter(year == \"2007\") %>% \n",
                "  mutate(\n",
                "    pop2 = pop + 1,\n",
                "    continent = case_when(\n",
                "      continent == \"Oceania\" ~ \"Asia\",\n",
                "      TRUE ~ as.character(continent)\n",
                "    ) %>% as.factor %>% \n",
                "      fct_relevel(\"Asia\", \"Americas\", \"Europe\", \"Africa\"),\n",
                "    year = as.integer(year),\n",
                "    year_label = as.character(year),\n",
                "    country_label = ifelse(str_detect(country, \"France\"), \"France\", NA)\n",
                "  )\n"
            ]
        },
        {
            "cell_type": "markdown",
            "metadata": {},
            "source": [
                "## Afficher les données\n",
                "\n"
            ]
        },
        {
            "cell_type": "code",
            "execution_count": null,
            "metadata": {},
            "outputs": [],
            "source": [
                "head(gapminder_cleaned, 10)\n",
                "\n"
            ]
        },
        {
            "cell_type": "markdown",
            "metadata": {},
            "source": [
                "## Le package {ggplot2} {#ggplot}\n",
                "\n",
                "> `ggplot2` est un système pour créer des graphiques de manière déclarative, basé sur [The Grammar of Graphics] (https://link.springer.com/chapter/10.1007/978-3-642-21551-3_13). Vous fournissez les données, dites à `ggplot2` comment faire correspondre les variables à l'esthétique, quelles primitives graphiques utiliser, et il s'occupe des détails.\n",
                "\n",
                "Un ggplot est construit à partir de quelques éléments de base :\n",
                "\n",
                "1.\t**Données** :\n",
                "Les données brutes que vous voulez tracer.\n",
                "2.\t**Géométries** `geom_` :\n",
                "Les formes géométriques qui représenteront les données.\n",
                "3.\t**Esthétique** `aes()` :\n",
                "Esthétique des objets géométriques et statistiques, comme la position, la couleur, la taille, la forme et la transparence.\n",
                "4.\t**Echelles** `scale_` :\n",
                "Les cartes entre les données et les dimensions esthétiques, telles que la plage de données à la largeur du graphique ou les valeurs des facteurs aux couleurs.\n",
                "5.\t**Transformations statistiques** `stat_` :\n",
                "Résumés statistiques des données, tels que les quantiles, les courbes ajustées, et les sommes.\n",
                "6.\t**Système de coordonnées** `coord_` :\n",
                "La transformation utilisée pour mettre en correspondance les coordonnées des données dans le plan du rectangle de données.\n",
                "7.\t**Facettes** `facet_` :\n",
                "L'arrangement des données dans une grille de parcelles.\n",
                "8.\t**Thèmes visuels** `theme()` :\n",
                "Les défauts visuels globaux d'un tracé, tels que le fond, les grilles, les axes, la police de caractères par défaut, les tailles et les couleurs.\n",
                "\n",
                "💡 **Le nombre d'éléments peut varier en fonction de la façon dont vous les regroupez.**\n",
                "\n",
                "## Créer une figure informative {#default}\n",
                "\n",
                "Tout d'abord, pour pouvoir utiliser les fonctionnalités de `{ggplot2}`, nous devons charger le package (que nous pouvons également charger via la [tidyverse package collection](https://www.tidyverse.org/)) :\n",
                "\n",
                "La syntaxe de `{ggplot2}` est différente de celle du R de base. En accord avec les éléments de base, un ggplot par défaut a besoin de trois choses que vous devez spécifier : les *données*, l'*esthétique*, et une *géométrie*. On commence toujours à définir un objet de traçage en appelant `ggplot(data = df)` qui indique simplement à `{ggplot2}` que l'on va travailler avec ces données. Dans la plupart des cas, vous voudrez tracer deux variables, l'une sur l'axe des x et l'autre sur l'axe des y. Il s'agit d'une *esthétique de positionnement*. Il s'agit d'une *esthétique positionnelle* et donc nous ajoutons `aes(x = var1, y = var2)` à l'appel `ggplot()` (oui, le `aes()` signifie esthétique). Cependant, il y a aussi des cas où l'on doit spécifier une, voire trois variables ou plus.\n",
                "\n",
                "💡 **On spécifie les données *outside* `aes()` et on ajoute les variables auxquelles ggplot associe l'esthétique *inside* `aes()`.**\n",
                "\n",
                "Ici, nous indexons la variable `gdpPercap` à la position x et la variable `lifeExp` à la position y. Plus tard, nous affecterons également des variables à toutes sortes d'autres caractéristiques esthétiques telles que la couleur, la taille et la forme.\n"
            ]
        },
        {
            "cell_type": "code",
            "execution_count": null,
            "metadata": {},
            "outputs": [],
            "source": [
                "  ggplot(data = gapminder_cleaned, aes(x = gdpPercap, y = lifeExp)) \n",
                "\n"
            ]
        },
        {
            "cell_type": "markdown",
            "metadata": {},
            "source": [
                "Hm, seul un panneau est créé lors de l'exécution. Pourquoi ? C'est parce que `{ggplot2}` ne sait pas *comment* nous voulons tracer ces données - nous devons encore fournir une géométrie !\n",
                "\n",
                "`ggplot2` vous permet de stocker le `ggobject` actuel dans une variable de votre choix en l'assignant à une variable, dans notre cas appelée `gapminder_plot`. Vous pouvez étendre ce `ggobjet` plus tard en ajoutant d'autres couches, soit en une seule fois, soit en l'assignant à la même ou à une autre variable.\n",
                "\n",
                "💡 **En utilisant des parenthèses lors de l'assignation d'un objet, l'objet sera imprimé immédiatement (au lieu d'écrire `g <- ggplot(...)` et ensuite `g` on écrit simplement `(g <- ggplot(...))`).**.\n",
                "\n",
                "Il y a beaucoup, beaucoup de géométries différentes (appelées *geoms* parce que chaque fonction commence généralement par `geom_`) que l'on peut ajouter à un ggplot par défaut (voir [ici](https://ggplot2.tidyverse.org/reference/) pour une liste complète) et encore plus fournies par des paquets d'extension (voir [ici](https://exts.ggplot2.tidyverse.org/) pour une collection de paquets d'extension). Indiquons à `{ggplot2}` quel style nous voulons utiliser, par exemple en ajoutant `geom_point()` pour créer un nuage de points :\n"
            ]
        },
        {
            "cell_type": "code",
            "execution_count": null,
            "metadata": {},
            "outputs": [],
            "source": [
                "gapminder_plot <-\n",
                "    ggplot(data = gapminder_cleaned, aes(x = gdpPercap, y = lifeExp)) +\n",
                "  geom_point(aes(size = pop, fill = continent), shape = 21) \n",
                "  \n",
                "gapminder_plot\n"
            ]
        },
        {
            "cell_type": "markdown",
            "metadata": {},
            "source": [
                "On peut aussi combiner plusieurs couches géométriques - et c'est là que la magie et le plaisir commence !\n",
                "On peut aussi ajuster les axes.\n",
                "\n",
                "##### Ajuster les axes \n",
                "\n",
                "Ajustons l'axe \"x\"\n"
            ]
        },
        {
            "cell_type": "code",
            "execution_count": null,
            "metadata": {},
            "outputs": [],
            "source": [
                "gapminder_plot +\n",
                "  scale_x_log10(breaks = c(500, 1000, 2000, 4000,\n",
                "                           8000, 16000, 32000, 64000)) \n"
            ]
        },
        {
            "cell_type": "markdown",
            "metadata": {},
            "source": [
                "Ajustons l'axe \"y\"\n",
                "\n"
            ]
        },
        {
            "cell_type": "code",
            "execution_count": null,
            "metadata": {},
            "outputs": [],
            "source": [
                "gapminder_plot +\n",
                "  scale_x_log10(breaks = c(500, 1000, 2000, 4000,\n",
                "                           8000, 16000, 32000, 64000)) +\n",
                "  scale_y_continuous(breaks = seq(0, 90, by = 10)) \n",
                "  \n"
            ]
        },
        {
            "cell_type": "markdown",
            "metadata": {},
            "source": [
                "💡 **`{ggplot2}` comprend à la fois `color` et `colour` ainsi que la version courte `col`.**\n",
                "\n",
                "Chaque geom vient avec ses propres propriétés (appelées *arguments*) et le même argument peut entraîner un changement différent selon le géom que vous utilisez.\n"
            ]
        },
        {
            "cell_type": "code",
            "execution_count": null,
            "metadata": {},
            "outputs": [],
            "source": [
                "gapminder_plot +\n",
                "  scale_x_log10(breaks = c(500, 1000, 2000, 4000,\n",
                "                           8000, 16000, 32000, 64000)) +\n",
                "  scale_y_continuous(breaks = seq(0, 90, by = 10)) +\n",
                "  scale_color_manual(values = c(\"#F15772\", \"#7EEB03\",\n",
                "                                \"#FBE700\", \"#54D5E9\")) \n"
            ]
        },
        {
            "cell_type": "markdown",
            "metadata": {},
            "source": [
                "Normalisons le diamètre des point en fonction de lapopulation pour une meilleure visualisation.\n",
                "\n"
            ]
        },
        {
            "cell_type": "code",
            "execution_count": null,
            "metadata": {},
            "outputs": [],
            "source": [
                "gapminder_plot +\n",
                "  scale_x_log10(breaks = c(500, 1000, 2000, 4000,\n",
                "                           8000, 16000, 32000, 64000)) +\n",
                "  scale_y_continuous(breaks = seq(0, 90, by = 10)) +\n",
                "  scale_color_manual(values = c(\"#F15772\", \"#7EEB03\",\n",
                "                                \"#FBE700\", \"#54D5E9\")) +\n",
                "  scale_size_continuous(range = c(1, 30)) \n",
                "  \n"
            ]
        },
        {
            "cell_type": "markdown",
            "metadata": {},
            "source": [
                "#####  Maintenant, on retir les légendes pour aérer la figure\n",
                "\n"
            ]
        },
        {
            "cell_type": "code",
            "execution_count": null,
            "metadata": {},
            "outputs": [],
            "source": [
                "gapminder_plot +\n",
                "  scale_x_log10(breaks = c(500, 1000, 2000, 4000,\n",
                "                           8000, 16000, 32000, 64000)) +\n",
                "  scale_y_continuous(breaks = seq(0, 90, by = 10)) +\n",
                "  scale_color_manual(values = c(\"#F15772\", \"#7EEB03\",\n",
                "                                \"#FBE700\", \"#54D5E9\")) +\n",
                "  scale_size_continuous(range = c(1, 30)) +\n",
                "  guides(size = FALSE, color = FALSE) \n",
                "  \n"
            ]
        },
        {
            "cell_type": "markdown",
            "metadata": {},
            "source": [
                "##### rajoutons les titres des axes et retirer le fond gris\n",
                "\n"
            ]
        },
        {
            "cell_type": "code",
            "execution_count": null,
            "metadata": {},
            "outputs": [],
            "source": [
                "theme_set(theme_bw()) # Retire le fond gris\n",
                "\n",
                "\n",
                "gapminder_plot +\n",
                "  scale_x_log10(breaks = c(500, 1000, 2000, 4000,\n",
                "                           8000, 16000, 32000, 64000)) +\n",
                "  scale_y_continuous(breaks = seq(0, 90, by = 10)) +\n",
                "  scale_color_manual(values = c(\"#F15772\", \"#7EEB03\",\n",
                "                                \"#FBE700\", \"#54D5E9\")) +\n",
                "  scale_size_continuous(range = c(1, 30)) +\n",
                "  guides(size = FALSE, color = FALSE) +\n",
                "  labs( x = \"Income\",    y = \"Life expectancy\"  ) \n",
                "  \n"
            ]
        },
        {
            "cell_type": "markdown",
            "metadata": {},
            "source": [
                "##### Affichons l'année des données\n",
                "\n"
            ]
        },
        {
            "cell_type": "code",
            "execution_count": null,
            "metadata": {},
            "outputs": [],
            "source": [
                "library(ggpp)\n",
                "\n",
                "gapminder_plot +\n",
                "  scale_x_log10(breaks = c(500, 1000, 2000, 4000,\n",
                "                           8000, 16000, 32000, 64000)) +\n",
                "  scale_y_continuous(breaks = seq(0, 90, by = 10)) +\n",
                "  scale_color_manual(values = c(\"#F15772\", \"#7EEB03\",\n",
                "                                \"#FBE700\", \"#54D5E9\")) +\n",
                "  scale_size_continuous(range = c(1, 30)) +\n",
                "  guides(size = FALSE, color = FALSE) +\n",
                "  labs( x = \"Income\",    y = \"Life expectancy\"  ) +\n",
                "  geom_text_npc(aes(label = year_label), \n",
                "                npcx = \"left\", npcy = \"bottom\", \n",
                "                size = 20, color = \"#999999\", alpha = .3,\n",
                "                family = \"Helvetica Neue\"\n",
                "                ) \n",
                "  \n",
                "  \n",
                "  \n"
            ]
        },
        {
            "cell_type": "markdown",
            "metadata": {},
            "source": [
                "##### Affichons le nom des pays (Ici uniquement la France)\n",
                "\n"
            ]
        },
        {
            "cell_type": "code",
            "execution_count": null,
            "metadata": {},
            "outputs": [],
            "source": [
                "library(ggrepel)\n",
                "\n",
                "gapminder_plot +\n",
                "  scale_x_log10(breaks = c(500, 1000, 2000, 4000,\n",
                "                           8000, 16000, 32000, 64000)) +\n",
                "  scale_y_continuous(breaks = seq(0, 90, by = 10)) +\n",
                "  scale_color_manual(values = c(\"#F15772\", \"#7EEB03\",\n",
                "                                \"#FBE700\", \"#54D5E9\")) +\n",
                "  scale_size_continuous(range = c(1, 30)) +\n",
                "  guides(size = FALSE, color = FALSE) +\n",
                "  labs( x = \"Income\",    y = \"Life expectancy\"  ) +\n",
                "  geom_text_npc(aes(label = year_label), \n",
                "                npcx = \"left\", npcy = \"bottom\", \n",
                "                size = 20, color = \"#999999\", alpha = .3,\n",
                "                family = \"Helvetica Neue\"\n",
                "                ) +\n",
                "  geom_label_repel(aes(label = country_label), show.legend = F,\n",
                "                   max.overlaps = 200) \n",
                "  \n"
            ]
        },
        {
            "cell_type": "markdown",
            "metadata": {},
            "source": [
                "##### Ajustons le thème du graphique\n",
                "\n"
            ]
        },
        {
            "cell_type": "code",
            "execution_count": null,
            "metadata": {},
            "outputs": [],
            "source": [
                "gapminder_plot +\n",
                "  scale_x_log10(breaks = c(500, 1000, 2000, 4000,\n",
                "                           8000, 16000, 32000, 64000)) +\n",
                "  scale_y_continuous(breaks = seq(0, 90, by = 10)) +\n",
                "  scale_color_manual(values = c(\"#F15772\", \"#7EEB03\",\n",
                "                                \"#FBE700\", \"#54D5E9\")) +\n",
                "  scale_size_continuous(range = c(1, 30)) +\n",
                "  guides(size = FALSE, color = FALSE) +\n",
                "  labs( x = \"Income\",    y = \"Life expectancy\"  ) +\n",
                "  geom_text_npc(aes(label = year_label), \n",
                "                npcx = \"left\", npcy = \"bottom\", \n",
                "                size = 20, color = \"#999999\", alpha = .3,\n",
                "                family = \"Helvetica Neue\"\n",
                "                ) +\n",
                "  geom_label_repel(aes(label = country_label), show.legend = F,\n",
                "                   max.overlaps = 200) +\n",
                "  theme(plot.margin = margin(25, 25, 10, 25),    \n",
                "        plot.title = element_text(color = \"#22292F\", hjust = 0,                              \n",
                "                                  margin = margin(b = 15),                              \n",
                "                                  size = 30,                              \n",
                "                                  face = \"bold\"\n",
                "                                  )) \n",
                "  \n"
            ]
        },
        {
            "cell_type": "markdown",
            "metadata": {},
            "source": [
                "##### Rajoutons un titre pour le graphique\n",
                "\n",
                "`\n"
            ]
        },
        {
            "cell_type": "code",
            "execution_count": null,
            "metadata": {},
            "outputs": [],
            "source": [
                "gapminder_plot +\n",
                "  scale_x_log10(breaks = c(500, 1000, 2000, 4000,\n",
                "                           8000, 16000, 32000, 64000)) +\n",
                "  scale_y_continuous(breaks = seq(0, 90, by = 10)) +\n",
                "  scale_color_manual(values = c(\"#F15772\", \"#7EEB03\",\n",
                "                                \"#FBE700\", \"#54D5E9\")) +\n",
                "  scale_size_continuous(range = c(1, 30)) +\n",
                "  guides(size = FALSE, color = FALSE) +\n",
                "  labs( x = \"Income\",    y = \"Life expectancy\"  ) +\n",
                "  geom_text_npc(aes(label = year_label), \n",
                "                npcx = \"left\", npcy = \"bottom\", \n",
                "                size = 20, color = \"#999999\", alpha = .3,\n",
                "                family = \"Helvetica Neue\"\n",
                "                ) +\n",
                "  geom_label_repel(aes(label = country_label), show.legend = F,\n",
                "                   max.overlaps = 200) +\n",
                "  theme(plot.margin = margin(25, 25, 10, 25),    \n",
                "        plot.title = element_text(color = \"#22292F\", hjust = 0,                              \n",
                "                                  margin = margin(b = 15),                              \n",
                "                                  size = 30,                              \n",
                "                                  face = \"bold\"\n",
                "                                  )) +\n",
                "\n",
                "  labs(title = \"Espérence de vie et Revenus\") \n"
            ]
        },
        {
            "cell_type": "markdown",
            "metadata": {},
            "source": [
                "##### Affichons la légende sous forme d'une carte du monde en bas à droite et retirons ma légende de gauche\n",
                "\n"
            ]
        },
        {
            "cell_type": "code",
            "execution_count": null,
            "metadata": {},
            "outputs": [],
            "source": [
                "library(countrycode)\n",
                "library(ggthemes)\n",
                "\n",
                "world <- \n",
                "  map_data(\"world\") %>%\n",
                "  filter(region != \"Antarctica\") %>% \n",
                "  mutate(\n",
                "    continent = countrycode(sourcevar = region,\n",
                "                            origin = \"country.name\",\n",
                "                            destination = \"continent\"),\n",
                "    continent = case_when(\n",
                "      continent == \"Oceania\" ~ \"Asia\",\n",
                "      TRUE ~ as.character(continent)\n",
                "    ) %>% as.factor %>% \n",
                "      fct_relevel(\"Asia\", \"Americas\", \"Europe\", \"Africa\")\n",
                "  ) %>% \n",
                "  drop_na(continent)\n",
                "\n",
                "head(world, 10)\n",
                "\n",
                "\n",
                "continent_map <- \n",
                "    ggplot(data = world) +   \n",
                "      geom_map(map = world,\n",
                "               aes(long, lat, \n",
                "                   group = group, \n",
                "                   map_id = region,\n",
                "                   fill = continent)) +\n",
                "     theme_map() +\n",
                "     # coord_map(xlim = c(-180, 180),\n",
                "     #           ylim = c(-200, 200)) +\n",
                "     scale_fill_manual(values = c(\"#F15772\", \"#7EEB03\", \"#FBE700\", \"#54D5E9\")) +  \n",
                "    guides(fill = FALSE) +  \n",
                "    theme(plot.background = element_blank())\n",
                "\n",
                "\n",
                "  gapminder_plot +\n",
                "  scale_x_log10(breaks = c(500, 1000, 2000, 4000,\n",
                "                           8000, 16000, 32000, 64000)) +\n",
                "  scale_y_continuous(breaks = seq(0, 90, by = 10)) +\n",
                "  scale_color_manual(values = c(\"#F15772\", \"#7EEB03\",\n",
                "                                \"#FBE700\", \"#54D5E9\")) +\n",
                "  scale_size_continuous(range = c(1, 30)) +\n",
                "  guides(size = FALSE, color = FALSE) +\n",
                "  labs( x = \"Income\",    y = \"Life expectancy\"  ) +\n",
                "  geom_text_npc(aes(label = year_label), \n",
                "                npcx = \"left\", npcy = \"bottom\", \n",
                "                size = 20, color = \"#999999\", alpha = .3,\n",
                "                family = \"Helvetica Neue\"\n",
                "                ) +\n",
                "  geom_label_repel(aes(label = country_label), show.legend = F,\n",
                "                   max.overlaps = 200) +\n",
                "  theme(plot.margin = margin(25, 25, 10, 25),    \n",
                "        plot.title = element_text(color = \"#22292F\", hjust = 0,                              \n",
                "                                  margin = margin(b = 15),                              \n",
                "                                  size = 30,                              \n",
                "                                  face = \"bold\"\n",
                "                                  ),\n",
                "        legend.position = \"none\"\n",
                "        ) +\n",
                "\n",
                "  labs(title = \"Espérence de vie et Revenus\") +\n",
                "  annotate(\"plot_npc\", npcx = \"right\", npcy = \"bottom\", label = continent_map)\n"
            ]
        },
        {
            "cell_type": "markdown",
            "metadata": {},
            "source": [
                "##### Affichons chaque continent sur un graphe\n",
                "\n"
            ]
        },
        {
            "cell_type": "code",
            "execution_count": null,
            "metadata": {},
            "outputs": [],
            "source": [
                "library(gganimate)\n",
                "\n",
                "gapminder_plot +\n",
                "  scale_x_log10(breaks = c(500, 1000, 2000, 4000,\n",
                "                           8000, 16000, 32000, 64000)) +\n",
                "  scale_y_continuous(breaks = seq(0, 90, by = 10)) +\n",
                "  scale_color_manual(values = c(\"#F15772\", \"#7EEB03\",\n",
                "                                \"#FBE700\", \"#54D5E9\")) +\n",
                "  scale_size_continuous(range = c(1, 30)) +\n",
                "  guides(size = FALSE, color = FALSE) +\n",
                "  labs( x = \"Income\",    y = \"Life expectancy\"  ) +\n",
                "  geom_text_npc(aes(label = year_label), \n",
                "                npcx = \"left\", npcy = \"bottom\", \n",
                "                size = 20, color = \"#999999\", alpha = .3,\n",
                "                family = \"Helvetica Neue\"\n",
                "                ) +\n",
                "  geom_label_repel(aes(label = country_label), show.legend = F,\n",
                "                   max.overlaps = 200) +\n",
                " theme(plot.margin = margin(25, 25, 10, 25),    \n",
                "        plot.title = element_text(color = \"#22292F\", hjust = 0,                              \n",
                "                                  margin = margin(b = 15),                              \n",
                "                                  size = 30,                              \n",
                "                                  face = \"bold\"\n",
                "                                  ),\n",
                "        legend.position = \"none\"\n",
                "        ) +\n",
                "\n",
                "  labs(title = \"Espérence de vie et Revenus\") +\n",
                "  annotate(\"plot_npc\", npcx = \"right\", npcy = \"bottom\", label = continent_map) +\n",
                "  facet_wrap(~ continent)\n",
                "\n",
                "  \n",
                "  \n",
                "  \n"
            ]
        },
        {
            "cell_type": "markdown",
            "metadata": {},
            "source": [
                "##### Et si on rajoutait un peu d'animation!\n",
                "\n"
            ]
        },
        {
            "cell_type": "code",
            "execution_count": null,
            "metadata": {},
            "outputs": [],
            "source": [
                "library(gganimate)\n",
                "\n",
                "\n",
                "final_result <-\n",
                "  gapminder_plot +\n",
                "  scale_x_log10(breaks = c(500, 1000, 2000, 4000,\n",
                "                           8000, 16000, 32000, 64000)) +\n",
                "  scale_y_continuous(breaks = seq(0, 90, by = 10)) +\n",
                "  scale_color_manual(values = c(\"#F15772\", \"#7EEB03\",\n",
                "                                \"#FBE700\", \"#54D5E9\")) +\n",
                "  scale_size_continuous(range = c(1, 30)) +\n",
                "  guides(size = FALSE, color = FALSE) +\n",
                "  labs( x = \"Income\",    y = \"Life expectancy\"  ) +\n",
                "  geom_text_npc(aes(label = year_label), \n",
                "                npcx = \"left\", npcy = \"bottom\", \n",
                "                size = 20, color = \"#999999\", alpha = .3,\n",
                "                family = \"Helvetica Neue\"\n",
                "                ) +\n",
                "  geom_label_repel(aes(label = country_label), show.legend = F,\n",
                "                   max.overlaps = 200) +\n",
                "  theme(plot.margin = margin(25, 25, 10, 25),    \n",
                "        plot.title = element_text(color = \"#22292F\", hjust = 0,                              \n",
                "                                  margin = margin(b = 15),                              \n",
                "                                  size = 30,                              \n",
                "                                  face = \"bold\"\n",
                "                                  ),\n",
                "        legend.position = \"none\"\n",
                "        ) +\n",
                "\n",
                "  labs(title = \"Espérence de vie et Revenus\") +\n",
                "  annotate(\"plot_npc\", npcx = \"right\", npcy = \"bottom\", label = continent_map) +\n",
                "  gganimate::transition_time(year) +\n",
                "  gganimate::exit_fade()\n",
                "\n",
                "final_result\n"
            ]
        },
        {
            "cell_type": "markdown",
            "metadata": {},
            "source": [
                "On peut modifier certaines propriétés pour les deux titres d'axe et d'autres uniquement pour l'un d'entre eux ou des propriétés pour chacun d'entre eux :\n",
                "\n",
                "\n",
                "##### Enregistrer le résultat final\n"
            ]
        },
        {
            "cell_type": "code",
            "execution_count": null,
            "metadata": {},
            "outputs": [],
            "source": [
                "library(gganimate)\n",
                "\n",
                "anim_save(\"final_result.gif\",\n",
                "          # path = \"/\",\n",
                "          res = 200, \n",
                "          animation = final_result,\n",
                "          # fps = 25\n",
                "          # fps = 10,\n",
                "          width = 800, \n",
                "          height = 700\n",
                ")\n"
            ]
        },
        {
            "cell_type": "markdown",
            "metadata": {},
            "source": [
                "##### Ressources supplémentaires\n",
                "\n",
                "\n",
                "* [\"ggplot2: Elegant Graphics for Data Analysis\"](https://ggplot2-book.org/) by Hadley Wickham, available via open-access!\n",
                "* [\"Fundamentals of Data Visualization\"](http://serialmentor.com/dataviz/) by Claus O. Wilke about data visualization in general but using `{ggplot2}`. (You can find the codes on [his GitHub profile](https://github.com/clauswilke/dataviz).)\n",
                "* [\"Cookbook for R\"](http://www.cookbook-r.com/Graphs/)\n",
                "by Winston Chang with recipes to produce R plots\n",
                "* Gallery of the [Top 50 ggplot2 visualizations](http://r-statistics.co/Top50-Ggplot2-Visualizations-MasterList-R-Code.html)\n",
                "* Gallery of [`{ggplot2}` extension packages](https://exts.ggplot2.tidyverse.org/gallery/)\n",
                "* [How to extend `{ggplot2}`](https://cran.r-project.org/web/packages/ggplot2/vignettes/extending-ggplot2.html) by Hadley Wickham\n",
                "* The fantastic [R4DS Online Learning Community](https://www.rfordatasci.com/) that offers help and mentoring for all things related to the content of the [\"R for Data Science\" book](r4ds.had.co.nz/) by Hadley Wickham\n",
                "* [#TidyTuesday](https://github.com/rfordatascience/tidytuesday), a weekly social data project focusing on ggplots—check also [#TidyTuesday on Twitter](https://twitter.com/hashtag/TidyTuesday?lang=en) and [this collection of contributions by Neil Grantham](https://nsgrantham.com/tidytuesdayrocks/)\n",
                "* A two-part, 4.5-hours tutorial series by Thomas Linn Pedersen ([Part 1](https://www.youtube.com/watch?v=h29g21z0a68) | [Part 2](https://www.youtube.com/watch?v=0m4yywqNPVY))\n"
            ]
        },
        {
            "cell_type": "code",
            "execution_count": null,
            "metadata": {},
            "outputs": [],
            "source": [
                "sessionInfo()\n",
                "\n"
            ]
        },
        {
            "cell_type": "markdown",
            "metadata": {},
            "source": [
                "\n",
                "<\/details>\n"
            ]
        }
    ],
    "metadata": {
        "anaconda-cloud": "",
        "kernelspec": {
            "display_name": "R",
            "langauge": "R",
            "name": "ir"
        },
        "language_info": {
            "codemirror_mode": "r",
            "file_extension": ".r",
            "mimetype": "text/x-r-source",
            "name": "R",
            "pygments_lexer": "r",
            "version": "3.4.1"
        }
    },
    "nbformat": 4,
    "nbformat_minor": 1
}
