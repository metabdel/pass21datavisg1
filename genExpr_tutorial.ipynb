{
    "cells": [
        {
            "cell_type": "markdown",
            "metadata": {},
            "source": [
                "<style>\n",
                "h1, h2, h3, h4, h5, h6, legend {\n",
                "  color:#28a87d;\n",
                "}\n",
                "#sidebar h2 {\n",
                "  background-color: #28a87d;\n",
                "}\n",
                "<\/style>\n"
            ]
        },
        {
            "cell_type": "code",
            "execution_count": null,
            "metadata": {},
            "outputs": [],
            "source": [
                "knitr::opts_chunk$set(echo = TRUE, warning = FALSE, \n",
                "                      fig.showtext = TRUE, retina = 1,\n",
                "                      fig.width = 9, fig.height = 5)\n"
            ]
        },
        {
            "cell_type": "markdown",
            "metadata": {},
            "source": [
                "## Chargement des Packages\n",
                "\n",
                "Nous allons utiliser une suite de package.  Veuillez exécuter le code suivant. `{ggplot2}` fait partie de la collection de paquets `{tidyverse}`, avec d'autres paquets utiles pour un workflow de science des données comme `{dplyr}`, `{tibble}`, `{tidyr}`, et `{readr}`.\n"
            ]
        },
        {
            "cell_type": "code",
            "execution_count": null,
            "metadata": {},
            "outputs": [],
            "source": [
                "#install.packages(\"ggplot2\")\n",
                "\n",
                "library(\"tidyverse\")\n",
                "library(\"here\")\n",
                "library(\"forcats\")\n",
                "library(\"ggdist\")\n",
                "library(\"ggtext\")\n"
            ]
        },
        {
            "cell_type": "markdown",
            "metadata": {},
            "source": [
                "---\n",
                "\n",
                "## Importer les Data\n",
                "\n",
                "Nous pouvons importer les données avec le package `{readr}`. On peut aussi utiliser la fonction de base `readRDS()`.\n"
            ]
        },
        {
            "cell_type": "code",
            "execution_count": null,
            "metadata": {},
            "outputs": [],
            "source": [
                "library(tidyverse)\n",
                "\n",
                "genes <- readr::read_rds(\"./data/data-ddh.Rds\")\n"
            ]
        },
        {
            "cell_type": "markdown",
            "metadata": {},
            "source": [
                "---\n",
                "\n",
                "## Explorer les données\n",
                "\n",
                "Jetons un coup d'œil à l'ensemble des données :\n"
            ]
        },
        {
            "cell_type": "code",
            "execution_count": null,
            "metadata": {},
            "outputs": [],
            "source": [
                "head(genes, 10)\n",
                "\n"
            ]
        },
        {
            "cell_type": "markdown",
            "metadata": {},
            "source": [
                "**Histoire:** Comparer les différences dans les scores de dépendance (`dep_score`) par gène (`gene_symbol`)\n",
                "**But:** Indiquer la similarité par le chevauchement des distributions\n",
                "\n",
                "Nous trions les gènes par leur score de dépendance médian :\n"
            ]
        },
        {
            "cell_type": "code",
            "execution_count": null,
            "metadata": {},
            "outputs": [],
            "source": [
                "genes <- \n",
                "  genes %>% \n",
                "  dplyr::mutate(gene_symbol = forcats::fct_reorder(gene_symbol, med))\n",
                "\n",
                "head(genes, 10)\n"
            ]
        },
        {
            "cell_type": "markdown",
            "metadata": {},
            "source": [
                "Nous pouvons facilement inspecter les données en traçant tous les scores de dépendance, groupés par gène. \n",
                "Comme nous savons déjà qu'il s'agit d'un ensemble de données assez important, nous choisissons `geom_jitter()` au lieu de `geom_point()` et ajoutons un peu de transparence. \n",
                "Nous pouvons aussi ajouter rapidement la médiane visuellement en utilisant `stat_summary()` :\n"
            ]
        },
        {
            "cell_type": "code",
            "execution_count": null,
            "metadata": {},
            "outputs": [],
            "source": [
                "theme_set(theme_minimal())\n",
                "\n",
                "ggplot(data = genes, \n",
                "       aes(x = dep_score, \n",
                "           y = gene_symbol,\n",
                "           color = gene_symbol)) +\n",
                "  geom_jitter(alpha = .1, show.legend = F) +\n",
                "  stat_summary(aes(x = dep_score),\n",
                "               fun = \"median\",\n",
                "               shape = 23,\n",
                "               fill = \"white\",\n",
                "               size = 1,\n",
                "               show.legend = F) +\n",
                "    scale_color_viridis_d(name = \"Gene:\", direction = -1) +\n",
                "    labs(x = \"Dependency score\", y = NULL) \n"
            ]
        },
        {
            "cell_type": "markdown",
            "metadata": {},
            "source": [
                "---\n",
                "\n",
                "## Le graphique de densité original\n",
                "\n",
                "Une façon habituelle de comparer des distributions est un graphique de densité :\n"
            ]
        },
        {
            "cell_type": "code",
            "execution_count": null,
            "metadata": {},
            "outputs": [],
            "source": [
                "ggplot(data = genes, \n",
                "       aes(x = dep_score, \n",
                "           fill = gene_symbol)) +\n",
                "  geom_density(alpha = .5) +\n",
                "  ## change color palette and name\n",
                "  scale_fill_viridis_d(name = \"Gene:\", direction = -1) +\n",
                "  ## change spacing y axis\n",
                "  scale_y_continuous(expand = c(.01, .01)) +\n",
                "  ## add custom text labels\n",
                "  labs(x = \"Dependency score\", y = NULL) +\n",
                "  ## change legend properties and remove axis text\n",
                "  theme(axis.text.y = element_blank(),\n",
                "        panel.grid.minor = element_blank(),\n",
                "        panel.grid.major.y = element_blank(),\n",
                "        legend.title = element_text(face = \"bold\"),\n",
                "        legend.position = c(.1, .6))\n"
            ]
        },
        {
            "cell_type": "markdown",
            "metadata": {},
            "source": [
                "Il y a quelques problèmes avec un nombre croissant de gènes : \n",
                "* il devient difficile de voir les distributions individuelles lorsque le nombre de gènes qui se chevauchent est important et que les distributions sont plus similaires.\n",
                "* Il devient impossible de faire correspondre les couleurs à chaque courbe.\n",
                "\n",
                "\n",
                "---\n",
                "\n",
                "## Le plot Ridgeline\n",
                "\n",
                "Les graphiques de ligne de crête (Ridgeline) montrent la distribution alignée sur la même échelle horizontale mais avec un espacement vertical, souvent présenté avec un léger chevauchement. Le package [`{ggridges}`] (https://cran.r-project.org/web/packages/ggridges/vignettes/introduction.html) est l'outil de choix avec `{ggplot2}` :\n"
            ]
        },
        {
            "cell_type": "code",
            "execution_count": null,
            "metadata": {},
            "outputs": [],
            "source": [
                "ggplot(data = genes, \n",
                "       aes(x = dep_score, \n",
                "           y = gene_symbol,\n",
                "           fill = gene_symbol,\n",
                "           color = after_scale(colorspace::lighten(fill, .3)))) +\n",
                "  ggridges::geom_density_ridges(alpha = .7) +\n",
                "  ## change color palette and name\n",
                "  scale_fill_viridis_d(guide = \"none\", direction = -1) +\n",
                "  ## add custom text labels\n",
                "  labs(x = \"Dependency score\", y = NULL) \n"
            ]
        },
        {
            "cell_type": "markdown",
            "metadata": {},
            "source": [
                "On peut améliorer le rendu !\n",
                "\n"
            ]
        },
        {
            "cell_type": "code",
            "execution_count": null,
            "metadata": {},
            "outputs": [],
            "source": [
                "ggplot(data = genes, \n",
                "       aes(x = dep_score, \n",
                "           y = gene_symbol,\n",
                "           ## color by dependency score\n",
                "           fill = med, \n",
                "           color = med)) +\n",
                "  ggridges::geom_density_ridges(alpha = .7) +\n",
                "  ## change color palette and name\n",
                "  scale_fill_viridis_c(guide = \"none\", direction = -1) +\n",
                "  scale_color_viridis_c(guide = \"none\", direction = -1) +\n",
                "  ## change spacing x axis\n",
                "  scale_x_continuous(expand = c(.01, .01)) +\n",
                "  ## change spacing y axis\n",
                "  scale_y_discrete(expand = c(.01, .01)) +\n",
                "  ## add custom text labels\n",
                "  labs(x = \"Dependency score\", y = NULL) +\n",
                "  ggdark::dark_mode()\n"
            ]
        },
        {
            "cell_type": "markdown",
            "metadata": {},
            "source": [
                "---\n",
                "\n",
                "## Le tracé en demi-oeil\n",
                "\n",
                "Le package `{ggdist}` fournit plusieurs géomètries très utiles. Le graphique en demi-oeil qui combine des courbes de densité avec des intervalles montrant la médiane et l'étendue des données :\n"
            ]
        },
        {
            "cell_type": "code",
            "execution_count": null,
            "metadata": {},
            "outputs": [],
            "source": [
                "library(ggdist)\n",
                "# \n",
                "ggplot(data = genes, \n",
                "       aes(x = dep_score, \n",
                "           y = gene_symbol,\n",
                "           fill = med)) +\n",
                "  ggdist::stat_halfeye(alpha = .7) +\n",
                "  ## change color palette and name\n",
                "  scale_fill_viridis_c(guide = \"none\", direction = -1) +\n",
                "  ## add custom text labels\n",
                "  labs(x = \"Dependency score\", y = NULL)\n"
            ]
        },
        {
            "cell_type": "markdown",
            "metadata": {},
            "source": [
                "La coloration par gène n'apporte pas beaucoup d'informations supplémentaires. En fait, elle pourrait même mettre en évidence certains gènes et en cacher d'autres. Au lieu de cela, nous pouvons également colorer les distributions par des valeurs seuils. Un score de dépendance supérieur à 1 ou inférieur à -1 présente un intérêt particulier, nous l'utilisons donc comme seuil :\n",
                "\n"
            ]
        },
        {
            "cell_type": "code",
            "execution_count": null,
            "metadata": {},
            "outputs": [],
            "source": [
                "ggplot(data = genes, \n",
                "       aes(x = dep_score, \n",
                "           y = gene_symbol)) +\n",
                "  ggdist::stat_halfeye(\n",
                "    aes(fill = stat(abs(x) > 1),\n",
                "        point_fill = after_scale(colorspace::lighten(fill, .15))),\n",
                "    .width = c(.025, .975),\n",
                "    color = \"black\",\n",
                "    shape = 21,\n",
                "    stroke = .7\n",
                "  ) +\n",
                "  ## change color palette and name\n",
                "  scale_fill_manual(values = c(\"#b3b3b3\", \"#0fb78e\"), guide = \"none\") +\n",
                "  scale_color_manual(values = c(\"#b3b3b3\", \"#0fb78e\"), guide = \"none\") +\n",
                "  ## add custom text labels\n",
                "  labs(x = \"Dependency score\", y = NULL)\n"
            ]
        },
        {
            "cell_type": "markdown",
            "metadata": {},
            "source": [
                "En appliquant une ombre à la \"zone sans intérêt\", nous pouvons augmenter l'effet de surbrillance :\n",
                "\n"
            ]
        },
        {
            "cell_type": "code",
            "execution_count": null,
            "metadata": {},
            "outputs": [],
            "source": [
                "ggplot(data = genes, \n",
                "       aes(x = dep_score, \n",
                "           y = gene_symbol)) +\n",
                "  ## add a box to indicate thresholds\n",
                "  geom_rect(xmin = -1, xmax = 1, \n",
                "            ymin = -Inf, ymax = Inf,\n",
                "            fill = \"grey92\",\n",
                "            alpha = 0.1) +\n",
                "  ## ad line to indicate zero scroes\n",
                "  geom_vline(xintercept = 0, color = \"white\", linetype = \"dashed\") +\n",
                "  ggdist::stat_halfeye(\n",
                "    aes(fill = stat(abs(x) > 1),\n",
                "        point_fill = after_scale(colorspace::lighten(fill, .15))),\n",
                "    .width = c(.025, .975),\n",
                "    color = \"black\",\n",
                "    shape = 21,\n",
                "    stroke = .7\n",
                "  ) +\n",
                "  ## change color palette and name\n",
                "  scale_fill_manual(values = c(\"#b3b3b3\", \"#0fb78e\"), guide = \"none\") +\n",
                "  scale_color_manual(values = c(\"#b3b3b3\", \"#0fb78e\"), guide = \"none\") +\n",
                "  ## add custom text labels\n",
                "  labs(x = \"Dependency score\", y = NULL) +\n",
                "  ## remove gridlines and add axis line\n",
                "  theme(panel.grid = element_blank(),\n",
                "        axis.line.x = element_line(color = \"grey40\"))\n"
            ]
        },
        {
            "cell_type": "markdown",
            "metadata": {},
            "source": [
                "---\n",
                "\n",
                "## Le tracé final\n",
                "\n",
                "Nous pouvons maintenant changer la police de caractères par défaut et ajouter un titre coloré pour expliquer ce que la couleur représente et une légende :\n"
            ]
        },
        {
            "cell_type": "code",
            "execution_count": null,
            "metadata": {},
            "outputs": [],
            "source": [
                "## change default font and gridlines\n",
                "library(showtext)\n",
                "\n",
                "\n",
                "ggplot(data = genes, \n",
                "       aes(x = dep_score, \n",
                "           y = gene_symbol)) +\n",
                "  ## add a box to indicate thresholds\n",
                "  geom_rect(xmin = -1, xmax = 1, \n",
                "            ymin = -Inf, ymax = Inf,\n",
                "            fill = \"grey92\") +\n",
                "  ## ad line to indicate zero scroes\n",
                "  geom_vline(xintercept = 0, color = \"white\", linetype = \"dashed\") +\n",
                "  ggdist::stat_halfeye(\n",
                "    aes(fill = stat(abs(x) > 1),\n",
                "        point_fill = after_scale(colorspace::lighten(fill, .15))),\n",
                "    .width = c(.025, .975),\n",
                "    color = \"black\",\n",
                "    shape = 21,\n",
                "    stroke = .7\n",
                "  ) +\n",
                "  ## change color palette and name\n",
                "  scale_fill_manual(values = c(\"#b3b3b3\", \"#0fb78e\"), guide = \"none\") +\n",
                "  scale_color_manual(values = c(\"#b3b3b3\", \"#0fb78e\"), guide = \"none\") +\n",
                "  ## add custom text labels\n",
                "  labs(x = \"Dependency score\", y = NULL,\n",
                "       title = \"<b style='color:#0fb78e'>PSMA5<\/b> and <b style='color:#0fb78e'>MCM2<\/b> sont des gènes candidats intéressants avec des scores médians inférieurs à -1\",\n",
                "       caption = \"Videz votre moment “Eureka” sur proteinatlas.org et DataDrivenHypothesis.org!\") +\n",
                "  ## remove gridlines, add axis line, adjust title, and add spacing\n",
                "  theme(panel.grid = element_blank(),\n",
                "        axis.line.x = element_line(color = \"grey40\"),\n",
                "        plot.title = ggtext::element_markdown(margin = margin(b = 10)),\n",
                "        plot.title.position = \"plot\",\n",
                "        plot.caption = element_text(color = \"#0fb78e\", margin = margin(t = 20)),\n",
                "        plot.margin = margin(rep(15, 4))) \n"
            ]
        },
        {
            "cell_type": "markdown",
            "metadata": {},
            "source": [
                "<details><summary>Session Info<\/summary>\n",
                "\n"
            ]
        },
        {
            "cell_type": "code",
            "execution_count": null,
            "metadata": {},
            "outputs": [],
            "source": [
                "Sys.time()\n",
                "sessionInfo()\n"
            ]
        },
        {
            "cell_type": "markdown",
            "metadata": {},
            "source": [
                "\n",
                "<\/details>\n"
            ]
        }
    ],
    "metadata": {
        "anaconda-cloud": "",
        "kernelspec": {
            "display_name": "R",
            "langauge": "R",
            "name": "ir"
        },
        "language_info": {
            "codemirror_mode": "r",
            "file_extension": ".r",
            "mimetype": "text/x-r-source",
            "name": "R",
            "pygments_lexer": "r",
            "version": "3.4.1"
        }
    },
    "nbformat": 4,
    "nbformat_minor": 1
}
